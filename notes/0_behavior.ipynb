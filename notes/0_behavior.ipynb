{
 "cells": [
  {
   "cell_type": "code",
   "execution_count": 1,
   "metadata": {},
   "outputs": [],
   "source": [
    "import os\n",
    "import pickle\n",
    "import numpy as np\n",
    "import pandas as pd\n",
    "import matplotlib.pyplot as plt\n",
    "import seaborn as sns\n",
    "%matplotlib inline\n",
    "%config InlineBackend.figure_format='retina'\n",
    "\n",
    "import sys\n",
    "sys.path.append('..')\n",
    "from m1_main import prospect_delegation\n"
   ]
  },
  {
   "cell_type": "code",
   "execution_count": null,
   "metadata": {},
   "outputs": [],
   "source": []
  },
  {
   "cell_type": "code",
   "execution_count": null,
   "metadata": {},
   "outputs": [],
   "source": [
    "data_set = 'leadership_data'\n",
    "model = 'prospect_delegation'\n",
    "method = 'mle' \n",
    "fname = f'../data/infer_data-{data_set}-{model}-{method}.csv'\n",
    "infer_data = pd.read_csv(fname)\n",
    "sub_lst = infer_data['sub_id'].unique()\n",
    "samples = np.random.choice(sub_lst, 5)\n",
    "fname = f'../data/leadership_data.csv'\n",
    "human_data = pd.read_csv(fname)\n",
    "human_data['p_defer'] = human_data['Fishing'].apply(lambda x: x==1)\n",
    "fig, axs = plt.subplots(5, 3, figsize=(4, 6), sharey=True)\n",
    "for i, sub_id in enumerate(samples):\n",
    "    sns.lineplot(data=human_data.query('sub_id == @sub_id'), x='ObjectiveValue', y='p_defer',\n",
    "                hue='sub_id', ax=axs[i, 0], legend=False)\n",
    "    sns.lineplot(data=infer_data.query('sub_id == @sub_id'), x='ObjectiveValue', y='p_defer',\n",
    "                hue='sub_id', ax=axs[i, 1], legend=False)\n",
    "    sns.lineplot(data=infer_data.query('sub_id == @sub_id'), x='SubjectiveValue', y='p_defer',\n",
    "                hue='sub_id', ax=axs[i, 2], legend=False)\n",
    "plt.tight_layout()\n",
    "plt.show()"
   ]
  },
  {
   "cell_type": "code",
   "execution_count": 24,
   "metadata": {},
   "outputs": [],
   "source": [
    "import pingouin as pg "
   ]
  },
  {
   "cell_type": "code",
   "execution_count": 26,
   "metadata": {},
   "outputs": [
    {
     "data": {
      "text/html": [
       "<div>\n",
       "<style scoped>\n",
       "    .dataframe tbody tr th:only-of-type {\n",
       "        vertical-align: middle;\n",
       "    }\n",
       "\n",
       "    .dataframe tbody tr th {\n",
       "        vertical-align: top;\n",
       "    }\n",
       "\n",
       "    .dataframe thead th {\n",
       "        text-align: right;\n",
       "    }\n",
       "</style>\n",
       "<table border=\"1\" class=\"dataframe\">\n",
       "  <thead>\n",
       "    <tr style=\"text-align: right;\">\n",
       "      <th></th>\n",
       "      <th>n</th>\n",
       "      <th>r</th>\n",
       "      <th>CI95%</th>\n",
       "      <th>p-val</th>\n",
       "      <th>BF10</th>\n",
       "      <th>power</th>\n",
       "    </tr>\n",
       "  </thead>\n",
       "  <tbody>\n",
       "    <tr>\n",
       "      <th>pearson</th>\n",
       "      <td>634</td>\n",
       "      <td>0.97337</td>\n",
       "      <td>[0.97, 0.98]</td>\n",
       "      <td>0.0</td>\n",
       "      <td>nan</td>\n",
       "      <td>1.0</td>\n",
       "    </tr>\n",
       "  </tbody>\n",
       "</table>\n",
       "</div>"
      ],
      "text/plain": [
       "           n        r         CI95%  p-val BF10  power\n",
       "pearson  634  0.97337  [0.97, 0.98]    0.0  nan    1.0"
      ]
     },
     "execution_count": 26,
     "metadata": {},
     "output_type": "execute_result"
    }
   ],
   "source": [
    "d = infer_data\n",
    "pg.corr(d['ObjectiveValue'].values, d['SubjectiveValue'].values)"
   ]
  },
  {
   "cell_type": "code",
   "execution_count": 33,
   "metadata": {},
   "outputs": [],
   "source": [
    "data_set = 'leadership_data'\n",
    "model = 'prospect_delegation'\n",
    "method = 'mle' \n",
    "def get_params(data_set, model, method, p_trans=None):\n",
    "    fname = f'../data/fit_info-{data_set}-{model}-{method}.pkl'\n",
    "    with open(fname, 'rb') as handle: fit_info = pickle.load(handle)\n",
    "    param_names = fit_info[list(fit_info.keys())[0]]['param_name']\n",
    "    df = {p: [] for p in param_names}\n",
    "    df['sub_id'] = []\n",
    "    for sub_id, item in fit_info.items():\n",
    "        params = item['param']\n",
    "        if p_trans is not None:\n",
    "            params = [fn(p) for p, fn in zip(params, p_trans)]\n",
    "        df['sub_id'].append(sub_id)\n",
    "        for i, n in enumerate(param_names): df[n].append(params[i])\n",
    "    return pd.DataFrame(df)[['sub_id'] + param_names]"
   ]
  },
  {
   "cell_type": "code",
   "execution_count": 34,
   "metadata": {},
   "outputs": [
    {
     "data": {
      "text/html": [
       "<div>\n",
       "<style scoped>\n",
       "    .dataframe tbody tr th:only-of-type {\n",
       "        vertical-align: middle;\n",
       "    }\n",
       "\n",
       "    .dataframe tbody tr th {\n",
       "        vertical-align: top;\n",
       "    }\n",
       "\n",
       "    .dataframe thead th {\n",
       "        text-align: right;\n",
       "    }\n",
       "</style>\n",
       "<table border=\"1\" class=\"dataframe\">\n",
       "  <thead>\n",
       "    <tr style=\"text-align: right;\">\n",
       "      <th></th>\n",
       "      <th>sub_id</th>\n",
       "      <th>theta</th>\n",
       "      <th>lmbda</th>\n",
       "      <th>gamma</th>\n",
       "      <th>tau</th>\n",
       "      <th>b</th>\n",
       "      <th>kappa</th>\n",
       "      <th>sigma</th>\n",
       "    </tr>\n",
       "  </thead>\n",
       "  <tbody>\n",
       "    <tr>\n",
       "      <th>0</th>\n",
       "      <td>Sub111_lyb_leadership</td>\n",
       "      <td>0.479377</td>\n",
       "      <td>1.188043</td>\n",
       "      <td>0.257630</td>\n",
       "      <td>529.343123</td>\n",
       "      <td>-0.130946</td>\n",
       "      <td>1.060443</td>\n",
       "      <td>0.002638</td>\n",
       "    </tr>\n",
       "    <tr>\n",
       "      <th>1</th>\n",
       "      <td>Sub106_zsh_leadership</td>\n",
       "      <td>0.343757</td>\n",
       "      <td>1.451130</td>\n",
       "      <td>0.379951</td>\n",
       "      <td>159.141879</td>\n",
       "      <td>-0.560923</td>\n",
       "      <td>0.861724</td>\n",
       "      <td>0.008468</td>\n",
       "    </tr>\n",
       "  </tbody>\n",
       "</table>\n",
       "</div>"
      ],
      "text/plain": [
       "                  sub_id     theta     lmbda     gamma         tau         b  \\\n",
       "0  Sub111_lyb_leadership  0.479377  1.188043  0.257630  529.343123 -0.130946   \n",
       "1  Sub106_zsh_leadership  0.343757  1.451130  0.379951  159.141879 -0.560923   \n",
       "\n",
       "      kappa     sigma  \n",
       "0  1.060443  0.002638  \n",
       "1  0.861724  0.008468  "
      ]
     },
     "execution_count": 34,
     "metadata": {},
     "output_type": "execute_result"
    }
   ],
   "source": [
    "data_set = 'leadership_data_type1'\n",
    "get_params(data_set, model, method, p_trans=eval(model).p_trans)"
   ]
  },
  {
   "cell_type": "code",
   "execution_count": 32,
   "metadata": {},
   "outputs": [
    {
     "data": {
      "text/html": [
       "<div>\n",
       "<style scoped>\n",
       "    .dataframe tbody tr th:only-of-type {\n",
       "        vertical-align: middle;\n",
       "    }\n",
       "\n",
       "    .dataframe tbody tr th {\n",
       "        vertical-align: top;\n",
       "    }\n",
       "\n",
       "    .dataframe thead th {\n",
       "        text-align: right;\n",
       "    }\n",
       "</style>\n",
       "<table border=\"1\" class=\"dataframe\">\n",
       "  <thead>\n",
       "    <tr style=\"text-align: right;\">\n",
       "      <th></th>\n",
       "      <th>sub_id</th>\n",
       "      <th>theta</th>\n",
       "      <th>lmbda</th>\n",
       "      <th>gamma</th>\n",
       "      <th>tau</th>\n",
       "      <th>b</th>\n",
       "      <th>kappa</th>\n",
       "      <th>sigma</th>\n",
       "    </tr>\n",
       "  </thead>\n",
       "  <tbody>\n",
       "    <tr>\n",
       "      <th>0</th>\n",
       "      <td>Sub111_lyb_leadership</td>\n",
       "      <td>0.477760</td>\n",
       "      <td>1.344275</td>\n",
       "      <td>2.519157</td>\n",
       "      <td>37.009728</td>\n",
       "      <td>-0.222347</td>\n",
       "      <td>0.698683</td>\n",
       "      <td>0.079535</td>\n",
       "    </tr>\n",
       "    <tr>\n",
       "      <th>1</th>\n",
       "      <td>Sub106_zsh_leadership</td>\n",
       "      <td>0.372445</td>\n",
       "      <td>1.394416</td>\n",
       "      <td>2.362507</td>\n",
       "      <td>20.686108</td>\n",
       "      <td>-0.224271</td>\n",
       "      <td>0.739345</td>\n",
       "      <td>0.079531</td>\n",
       "    </tr>\n",
       "  </tbody>\n",
       "</table>\n",
       "</div>"
      ],
      "text/plain": [
       "                  sub_id     theta     lmbda     gamma        tau         b  \\\n",
       "0  Sub111_lyb_leadership  0.477760  1.344275  2.519157  37.009728 -0.222347   \n",
       "1  Sub106_zsh_leadership  0.372445  1.394416  2.362507  20.686108 -0.224271   \n",
       "\n",
       "      kappa     sigma  \n",
       "0  0.698683  0.079535  \n",
       "1  0.739345  0.079531  "
      ]
     },
     "execution_count": 32,
     "metadata": {},
     "output_type": "execute_result"
    }
   ],
   "source": [
    "data_set = 'leadership_data_type2'\n",
    "get_params(data_set, model, method, p_trans=eval(model).p_trans)\n"
   ]
  },
  {
   "cell_type": "code",
   "execution_count": 29,
   "metadata": {},
   "outputs": [],
   "source": [
    "## simulate\n",
    "def sim(params):\n",
    "\n",
    "    data_set = 'leadership_data'\n",
    "    model = 'prospect_delegation'\n",
    "    method = 'mle' \n",
    "    # load the data for inference\n",
    "    fname = f'../data/{data_set}.pkl'\n",
    "    with open(fname, 'rb') as handle: data = pickle.load(handle)\n",
    "    \n",
    "    model_name = 'prospect_delegation'\n",
    "    nA = 2 # the number of possible choices\n",
    "    model = eval(model_name)\n",
    "    params = [f(p) for p, f in zip(params, model.p_links)]\n",
    "    print([f(p) for p, f in zip(params, model.p_trans)])\n",
    "\n",
    "\n",
    "    infer_data = [] \n",
    "    print('\\nInferring the latent variables...')\n",
    "    for sub_id, sub_data in data.items():\n",
    "        # get the fitted params for inference\n",
    "        fitted_params = params#fit_sub_info[sub_id]['param']\n",
    "\n",
    "        for sub_id in sub_data.keys():\n",
    "            # instantiate the subject model\n",
    "            block_data = sub_data[sub_id].copy()\n",
    "            subj = model(nA, fitted_params)\n",
    "\n",
    "            # initialize a blank dataframe to store the inference results\n",
    "            col = ['ll'] + model.hidden_vars\n",
    "            init_mat = np.zeros([block_data.shape[0], len(col)]) + np.nan\n",
    "            pred_data = pd.DataFrame(init_mat, columns=col)  \n",
    "\n",
    "            for t, row in block_data.iterrows():\n",
    "                # make a decision \n",
    "                z_gain = row['Zgain']\n",
    "                z_loss = row['Zloss']\n",
    "                z_uncertain = row['Uncertainty']\n",
    "                response = row['Response']\n",
    "\n",
    "                # if the participant response, calculate the likelihood\n",
    "                if response: \n",
    "                    pi = subj.policy(z_gain, z_loss, z_uncertain, x_gain=.2, x_loss=-.2)\n",
    "                    a = row['Fishing']\n",
    "                \n",
    "                    # store the hidden variables \n",
    "                    pred_data.loc[t, 'll'] = np.log(pi[a]+1e-12)\n",
    "                    for v in model.hidden_vars: \n",
    "                        pred_data.loc[t, v] = eval(f'subj.{v}')\n",
    "            \n",
    "            # combine the subject data and inferred hidden variables\n",
    "            pred_data = pred_data.dropna(axis=1, how='all')\n",
    "            infer_datum = pd.concat([block_data, pred_data], axis=1)   \n",
    "            infer_data.append(infer_datum)\n",
    "\n",
    "    # combine the inferred data from all subjects and save it\n",
    "    infer_data = pd.concat(infer_data, axis=0).reset_index(drop=True)\n",
    "    return infer_data "
   ]
  },
  {
   "cell_type": "code",
   "execution_count": 30,
   "metadata": {},
   "outputs": [
    {
     "name": "stdout",
     "output_type": "stream",
     "text": [
      "[0.5, 1.000000000003, 0.9999999999999999, 5.000000000001, 0.1, 0.500000000001, 0.05000000000100001]\n",
      "\n",
      "Inferring the latent variables...\n"
     ]
    },
    {
     "data": {
      "image/png": "[encoded data removed]",
      "text/plain": [
       "<Figure size 300x300 with 1 Axes>"
      ]
     },
     "metadata": {
      "image/png": {
       "height": 294,
       "width": 316
      }
     },
     "output_type": "display_data"
    }
   ],
   "source": [
    "sim_data = sim([0.5, 1, 1, 5, .1, .5, .05])\n",
    "fig, ax = plt.subplots(1, 1, figsize=(3, 3))\n",
    "for a in ['p_fish', 'p_defer', 'p_safe', 'u']:\n",
    "    sns.lineplot(data=sim_data, x='ObjectiveValue', \n",
    "                 y=a, ax=ax, label=a)\n",
    "plt.show()"
   ]
  }
 ],
 "metadata": {
  "kernelspec": {
   "display_name": "py3",
   "language": "python",
   "name": "python3"
  },
  "language_info": {
   "codemirror_mode": {
    "name": "ipython",
    "version": 3
   },
   "file_extension": ".py",
   "mimetype": "text/x-python",
   "name": "python",
   "nbconvert_exporter": "python",
   "pygments_lexer": "ipython3",
   "version": "3.10.9"
  }
 },
 "nbformat": 4,
 "nbformat_minor": 2
}
